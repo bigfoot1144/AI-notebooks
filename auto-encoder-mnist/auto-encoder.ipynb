{
 "cells": [
  {
   "cell_type": "code",
   "execution_count": 1,
   "metadata": {},
   "outputs": [],
   "source": [
    "import torch\n",
    "import torch.nn as nn\n",
    "import torch.nn.functional as F\n",
    "from sklearn.datasets import fetch_openml\n",
    "import numpy as np\n",
    "\n",
    "# Load the MNIST dataset\n",
    "mnist = fetch_openml('mnist_784', version=1)\n",
    "\n",
    "# Split the data into training and testing sets\n",
    "X_train, X_test = mnist.data[:60000], mnist.data[60000:]\n",
    "y_train, y_test = mnist.target[:60000], mnist.target[60000:]\n",
    "\n",
    "# Normalize the data\n",
    "X_train = X_train.astype('float32') / 255\n",
    "X_test = X_test.astype('float32') / 255"
   ]
  },
  {
   "cell_type": "code",
   "execution_count": 2,
   "metadata": {},
   "outputs": [],
   "source": [
    "X_train = torch.tensor(X_train.values)\n",
    "X_test = torch.tensor(X_test.values)\n"
   ]
  },
  {
   "cell_type": "code",
   "execution_count": null,
   "metadata": {},
   "outputs": [
    {
     "name": "stdout",
     "output_type": "stream",
     "text": [
      "Autoencoder(\n",
      "  (encoder): Sequential(\n",
      "    (0): Linear(in_features=784, out_features=128, bias=True)\n",
      "    (1): ReLU()\n",
      "    (2): Linear(in_features=128, out_features=64, bias=True)\n",
      "    (3): ReLU()\n",
      "    (4): Linear(in_features=64, out_features=12, bias=True)\n",
      "    (5): ReLU()\n",
      "  )\n",
      "  (decoder): Sequential(\n",
      "    (0): Linear(in_features=12, out_features=64, bias=True)\n",
      "    (1): ReLU()\n",
      "    (2): Linear(in_features=64, out_features=128, bias=True)\n",
      "    (3): ReLU()\n",
      "    (4): Linear(in_features=128, out_features=784, bias=True)\n",
      "    (5): Sigmoid()\n",
      "  )\n",
      ")\n"
     ]
    }
   ],
   "source": [
    "class Autoencoder(nn.Module):\n",
    "    def __init__(self):\n",
    "        super().__init__()\n",
    "        self.encoder = nn.Sequential(\n",
    "            nn.Linear(784, 128),\n",
    "            nn.ReLU(),\n",
    "            nn.Linear(128, 64),\n",
    "            nn.ReLU(),\n",
    "            nn.Linear(64, 12),\n",
    "            nn.ReLU()\n",
    "        )\n",
    "        self.decoder = nn.Sequential(\n",
    "            nn.Linear(12, 64),\n",
    "            nn.ReLU(),\n",
    "            nn.Linear(64, 128),\n",
    "            nn.ReLU(),\n",
    "            nn.Linear(128, 784),\n",
    "            nn.Sigmoid()\n",
    "        )\n",
    "\n",
    "    def forward(self, x):\n",
    "        x = self.encoder(x)\n",
    "        x = self.decoder(x)\n",
    "        return x\n",
    "    \n",
    "    def decoder_only(self,x):\n",
    "        x = self.decoder(x)\n",
    "        return x\n",
    "\n",
    "\n",
    "\n",
    "model = Autoencoder().to(\"cuda\")\n",
    "print(model)\n",
    "X_train = X_train.to(\"cuda\")\n"
   ]
  },
  {
   "cell_type": "code",
   "execution_count": 4,
   "metadata": {},
   "outputs": [
    {
     "name": "stderr",
     "output_type": "stream",
     "text": [
      "Training: 100%|██████████| 11700/11700 [00:23<00:00, 494.95it/s, Epoch=100, Batch=117, Loss=0.0199]\n"
     ]
    }
   ],
   "source": [
    "import tqdm\n",
    "\n",
    "optim = torch.optim.Adam(model.parameters(),lr=3e-4)\n",
    "loss_fn = nn.MSELoss()\n",
    "\n",
    "# Train the model\n",
    "epochs = 100\n",
    "batch_size = 512\n",
    "num_batches = len(X_train) // batch_size\n",
    "\n",
    "with tqdm.tqdm(total=epochs * num_batches, desc=\"Training\") as pbar:\n",
    "    for epoch in range(epochs):\n",
    "        model.train()\n",
    "        for batch_idx in range(num_batches):\n",
    "            start_idx = batch_idx * batch_size\n",
    "            end_idx = (batch_idx + 1) * batch_size\n",
    "            inputs = X_train[start_idx:end_idx]\n",
    "            \n",
    "            optim.zero_grad()\n",
    "            outputs = model(inputs)\n",
    "            loss = loss_fn(outputs, inputs)\n",
    "            loss.backward()\n",
    "            optim.step()\n",
    "            \n",
    "            pbar.update(1)\n",
    "            pbar.set_postfix({\"Epoch\": epoch+1, \"Batch\": batch_idx+1, \"Loss\": f\"{loss.item():.4f}\"})"
   ]
  },
  {
   "cell_type": "code",
   "execution_count": 8,
   "metadata": {},
   "outputs": [
    {
     "data": {
      "image/png": "[encoded data removed]",
      "text/plain": [
       "<Figure size 1000x500 with 2 Axes>"
      ]
     },
     "metadata": {},
     "output_type": "display_data"
    }
   ],
   "source": [
    "import matplotlib.pyplot as plt\n",
    "import numpy as np\n",
    "import torch\n",
    "\n",
    "# Select one item from X_train\n",
    "item = X_train[10]\n",
    "\n",
    "# Run forward pass\n",
    "output = model(item.unsqueeze(0))  # Add batch dimension\n",
    "output = output.squeeze(0)  # Remove batch dimension\n",
    "\n",
    "# Move data back to CPU for plotting\n",
    "item = item.cpu().numpy()\n",
    "output = output.cpu().detach().numpy()\n",
    "\n",
    "# Reshape data to 28x28 images\n",
    "image = item.reshape((28, 28))\n",
    "output_image = output.reshape((28, 28))\n",
    "\n",
    "# Plot input and output images\n",
    "fig, axs = plt.subplots(1, 2, figsize=(10, 5))\n",
    "axs[0].imshow(image, cmap='gray')\n",
    "axs[0].axis('off')\n",
    "axs[0].set_title('Input Image')\n",
    "\n",
    "axs[1].imshow(output_image, cmap='gray')\n",
    "axs[1].axis('off')\n",
    "axs[1].set_title('Model Output')\n",
    "\n",
    "plt.show()"
   ]
  },
  {
   "cell_type": "code",
   "execution_count": null,
   "metadata": {},
   "outputs": [],
   "source": [
    "item = torch.randn(12).to(\"cuda\")\n",
    "\n",
    "# Run forward pass\n",
    "output = model.decoder_only(item.unsqueeze(0))  # Add batch dimension\n",
    "output = output.squeeze(0)  # Remove batch dimension\n",
    "\n",
    "# Move data back to CPU for plotting\n",
    "item = item.cpu().numpy()\n",
    "output = output.cpu().detach().numpy()\n",
    "\n",
    "# Reshape data to 28x28 images\n",
    "image = item.reshape((28, 28))\n",
    "output_image = output.reshape((28, 28))\n",
    "\n",
    "# Plot input and output images\n",
    "fig, axs = plt.subplots(1, 2, figsize=(10, 5))\n",
    "axs[0].imshow(image, cmap='gray')\n",
    "axs[0].axis('off')\n",
    "axs[0].set_title('Input Image')\n",
    "\n",
    "axs[1].imshow(output_image, cmap='gray')\n",
    "axs[1].axis('off')\n",
    "axs[1].set_title('Model Output')\n",
    "\n",
    "plt.show()"
   ]
  },
  {
   "cell_type": "code",
   "execution_count": null,
   "metadata": {},
   "outputs": [],
   "source": []
  }
 ],
 "metadata": {
  "kernelspec": {
   "display_name": ".venv",
   "language": "python",
   "name": "python3"
  },
  "language_info": {
   "codemirror_mode": {
    "name": "ipython",
    "version": 3
   },
   "file_extension": ".py",
   "mimetype": "text/x-python",
   "name": "python",
   "nbconvert_exporter": "python",
   "pygments_lexer": "ipython3",
   "version": "3.12.8"
  }
 },
 "nbformat": 4,
 "nbformat_minor": 2
}
