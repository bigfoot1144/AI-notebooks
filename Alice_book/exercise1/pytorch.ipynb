{
 "cells": [
  {
   "cell_type": "code",
   "execution_count": 1,
   "metadata": {},
   "outputs": [
    {
     "name": "stdout",
     "output_type": "stream",
     "text": [
      "tensor([[-0.1025, -0.2239],\n",
      "        [ 1.8774,  0.4579],\n",
      "        [ 1.7245,  1.0279],\n",
      "        [ 1.1245, -0.4978]], requires_grad=True)\n",
      "tensor(3.9713, grad_fn=<SumBackward0>)\n",
      "tensor([[ 1.4661, -0.0256],\n",
      "        [ 0.0169, -0.5130],\n",
      "        [ 0.2042, -1.0328],\n",
      "        [ 0.7892,  0.4964]])\n",
      "tensor([[ 1.4661, -0.0256],\n",
      "        [ 0.0169, -0.5130],\n",
      "        [ 0.2042, -1.0328],\n",
      "        [ 0.7892,  0.4964]], grad_fn=<StackBackward0>)\n"
     ]
    }
   ],
   "source": [
    "import torch\n",
    "\n",
    "#f(x) = sin(x1) cos(x2) + sin(0.5x1) cos(0.5x2)\n",
    "\n",
    "def fx(x):\n",
    "    x1= x[:, 0]\n",
    "    x2 = x[:, 1]\n",
    "    #sin(x1) cos(x2)\n",
    "    out1 = torch.sin(x1)\n",
    "    out1 *= torch.cos(x2)\n",
    "\n",
    "    #sin(0.5x1) cos(0.5x2)\n",
    "    out2 = torch.sin(0.5 * x1)\n",
    "    out2 *= torch.cos(0.5 * x2)\n",
    "    return out1 + out2\n",
    "\n",
    "def gradient_fx(x):\n",
    "    x1, x2 = x[:, 0], x[:, 1]\n",
    "    dfx_dx1 = (torch.cos(x1) * torch.cos(x2)) + (0.5 * torch.cos(0.5*x1) * torch.cos(0.5*x2))\n",
    "    dfx_dx2 = (-torch.sin(x1) * torch.sin(x2)) - (0.5 * torch.sin(0.5*x1) * torch.sin(0.5*x2))\n",
    "    return torch.stack((dfx_dx1, dfx_dx2), dim=1)\n",
    "\n",
    "a = torch.randn(4,2, requires_grad=True)\n",
    "print(a)\n",
    "\n",
    "out = fx(a).sum()\n",
    "print(out)\n",
    "out.backward()\n",
    "\n",
    "print(a.grad)\n",
    "\n",
    "print(gradient_fx(a))\n",
    "\n"
   ]
  },
  {
   "cell_type": "code",
   "execution_count": null,
   "metadata": {},
   "outputs": [],
   "source": []
  }
 ],
 "metadata": {
  "kernelspec": {
   "display_name": ".venv",
   "language": "python",
   "name": "python3"
  },
  "language_info": {
   "codemirror_mode": {
    "name": "ipython",
    "version": 3
   },
   "file_extension": ".py",
   "mimetype": "text/x-python",
   "name": "python",
   "nbconvert_exporter": "python",
   "pygments_lexer": "ipython3",
   "version": "3.12.8"
  }
 },
 "nbformat": 4,
 "nbformat_minor": 2
}
